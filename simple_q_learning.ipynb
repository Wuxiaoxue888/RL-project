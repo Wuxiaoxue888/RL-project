{
 "cells": [
  {
   "cell_type": "code",
   "execution_count": 1,
   "metadata": {},
   "outputs": [],
   "source": [
    "import gymnasium as gym\n",
    "import tensorflow as tf\n",
    "import numpy as np\n",
    "np.set_printoptions(precision=3)\n",
    "\n",
    "np.random.seed(42)\n",
    "tf.random.set_seed(42)\n",
    "\n",
    "import mahjong_env"
   ]
  },
  {
   "cell_type": "code",
   "execution_count": 32,
   "metadata": {},
   "outputs": [],
   "source": [
    "env = gym.make(\"Mahjong-v0\")"
   ]
  },
  {
   "cell_type": "code",
   "execution_count": 53,
   "metadata": {},
   "outputs": [],
   "source": [
    "input_shape = [108]\n",
    "n_outputs = 27\n",
    "\n",
    "model = tf.keras.Sequential([\n",
    "    tf.keras.Input(input_shape),\n",
    "    tf.keras.layers.Dense(64, activation=\"elu\"),\n",
    "    tf.keras.layers.Dense(64, activation=\"elu\"),\n",
    "    tf.keras.layers.Dense(n_outputs)\n",
    "])"
   ]
  },
  {
   "cell_type": "code",
   "execution_count": 85,
   "metadata": {},
   "outputs": [],
   "source": [
    "def epsilon_greedy_policy(observation, epsilon):\n",
    "    observation = np.concatenate([observation[x] for x in sorted(observation)])\n",
    "    if np.random.rand() < epsilon:\n",
    "        action = np.random.choice(np.nonzero(observation[:27])[0])\n",
    "    else:\n",
    "        action_q_values = model.predict(observation[np.newaxis], verbose=0)[0]\n",
    "        action_q_values[(observation[:27]==0)] = -np.inf # mask invalid actions\n",
    "        action = np.argmax(action_q_values)\n",
    "    return action"
   ]
  },
  {
   "cell_type": "code",
   "execution_count": 86,
   "metadata": {},
   "outputs": [],
   "source": [
    "class CircularReplayBuffer:\n",
    "    def __init__(self, max_size):\n",
    "        self.buffer = np.empty(max_size, dtype=object)\n",
    "        self.max_size = max_size\n",
    "        self.index = 0\n",
    "        self.size = 0\n",
    "\n",
    "    def append(self, obj):\n",
    "        # Modify observations\n",
    "        observation, action, reward, next_observation, done, truncated = obj\n",
    "        observation = np.concatenate([observation[x] for x in sorted(observation)])\n",
    "        next_observation = np.concatenate([next_observation[x] for x in sorted(next_observation)])\n",
    "        \n",
    "        self.buffer[self.index] = (observation, action, reward, next_observation, done, truncated)\n",
    "        self.size = min(self.size + 1, self.max_size)\n",
    "        self.index = (self.index + 1) % self.max_size\n",
    "\n",
    "    def sample(self, batch_size):\n",
    "        indices = np.random.randint(self.size, size=batch_size)\n",
    "        return self.buffer[indices]\n",
    "    \n",
    "replay_buffer = CircularReplayBuffer(5_000)"
   ]
  },
  {
   "cell_type": "code",
   "execution_count": 87,
   "metadata": {},
   "outputs": [],
   "source": [
    "def sample_experiences(batch_size):\n",
    "    batch = replay_buffer.sample(batch_size)\n",
    "    return [\n",
    "        np.array([experience[field_index] for experience in batch])\n",
    "        for field_index in range(6)\n",
    "    ]"
   ]
  },
  {
   "cell_type": "code",
   "execution_count": 88,
   "metadata": {},
   "outputs": [],
   "source": [
    "def play_one_step(env, observation, epsilon):\n",
    "    action = epsilon_greedy_policy(observation, epsilon)\n",
    "    next_observation, reward, done, truncated, info = env.step(action)\n",
    "    replay_buffer.append((observation, action, reward, next_observation, done, truncated))\n",
    "    return next_observation, reward, done, truncated, info"
   ]
  },
  {
   "cell_type": "code",
   "execution_count": 89,
   "metadata": {},
   "outputs": [],
   "source": [
    "env.reset(seed=42)\n",
    "np.random.seed(42)\n",
    "tf.random.set_seed(42)\n",
    "rewards = [] \n",
    "best_score = -10_000\n",
    "\n",
    "batch_size = 32\n",
    "discount_factor = 0.95\n",
    "optimizer = tf.keras.optimizers.Adam(learning_rate=1e-3)\n",
    "loss_fn = tf.keras.losses.mse\n",
    "\n",
    "def training_step(batch_size):\n",
    "    observations, actions, rewards, next_observations, dones, truncateds = sample_experiences(batch_size)\n",
    "    next_q_values = model.predict(next_observations, verbose=0)\n",
    "    max_next_q_values = next_q_values.max(axis=1)\n",
    "    next_observation_exists = 1.0 - (dones | truncateds)\n",
    "    target_Q_values = rewards + next_observation_exists * discount_factor * max_next_q_values\n",
    "    target_Q_values = target_Q_values.reshape(-1, 1)\n",
    "\n",
    "    mask = tf.one_hot(actions, n_outputs)\n",
    "    with tf.GradientTape() as tape:\n",
    "        all_Q_values = model(observations)\n",
    "        Q_values = tf.reduce_sum(all_Q_values * mask, axis=1, keepdims=True)\n",
    "        loss = tf.reduce_mean(loss_fn(target_Q_values, Q_values))\n",
    "    grads = tape.gradient(loss, model.trainable_variables)\n",
    "    optimizer.apply_gradients(zip(grads, model.trainable_variables))"
   ]
  },
  {
   "cell_type": "code",
   "execution_count": 99,
   "metadata": {},
   "outputs": [
    {
     "name": "stdout",
     "output_type": "stream",
     "text": [
      "Episode: 20, Steps: 16, Reward: 1.82, eps: 0.05000"
     ]
    }
   ],
   "source": [
    "NUMBER_OF_EPISODES = 20\n",
    "for episode in range(NUMBER_OF_EPISODES):\n",
    "    observation, _ = env.reset()\n",
    "    episode_reward = 0\n",
    "    for step in range(1_000):\n",
    "        epsilon = max(1 - episode / NUMBER_OF_EPISODES, 0.01)\n",
    "        observation, reward, done, truncated, info = play_one_step(env, observation, epsilon)\n",
    "        episode_reward += reward\n",
    "        if done or truncated:\n",
    "            break\n",
    "\n",
    "    print(f\"\\rEpisode: {episode + 1}, Steps: {step + 1}, Reward: {episode_reward:.2f}, eps: {epsilon:.3f}\", end=\"\")\n",
    "\n",
    "    rewards.append(episode_reward)\n",
    "    if episode_reward >= best_score:\n",
    "        best_weights = model.get_weights()\n",
    "        best_score = episode_reward\n",
    "\n",
    "    if episode > 5:\n",
    "        training_step(batch_size)"
   ]
  },
  {
   "cell_type": "code",
   "execution_count": null,
   "metadata": {},
   "outputs": [],
   "source": []
  }
 ],
 "metadata": {
  "kernelspec": {
   "display_name": "venv",
   "language": "python",
   "name": "python3"
  },
  "language_info": {
   "codemirror_mode": {
    "name": "ipython",
    "version": 3
   },
   "file_extension": ".py",
   "mimetype": "text/x-python",
   "name": "python",
   "nbconvert_exporter": "python",
   "pygments_lexer": "ipython3",
   "version": "3.9.13"
  }
 },
 "nbformat": 4,
 "nbformat_minor": 2
}
